{
 "cells": [
  {
   "cell_type": "markdown",
   "id": "646baf90-5883-4565-a2c2-db9e531ec6d3",
   "metadata": {},
   "source": [
    "$Anna\\;Patrishia\\;T.\\;Potot$ <BR>\n",
    "$BSIT-1$"
   ]
  },
  {
   "cell_type": "markdown",
   "id": "65ae3227-1da2-4137-8c31-58b1d0ebb4cc",
   "metadata": {},
   "source": [
    "## 1.) Proving Identities\n",
    "\n",
    "$A$ and $B$ are sets, $\\exists$x such that $x \\in A$ $\\land$ $x \\in B$\n",
    "\n",
    "**1.) A\\B = A $\\cap$ $B^C$**\n",
    "\n",
    "- $A \\ B:$ This set contains all elements that are in $A$ but not in $B$, including $x$ because $x \\in$ $A$ and $x \\notin B$ <br>\n",
    "- $B^C:$ This set contains all elements that are not in $B$, including $x \\notin B.$ <br>\n",
    "Since $x$ is in both $A$ \\ $B$ and $B^C$, these two sets have the same elements. Therefore, $A$\\ $B = A\\cap B^C$\n"
   ]
  },
  {
   "cell_type": "markdown",
   "id": "e5dad794-1456-4f0b-a01c-baf5153b015d",
   "metadata": {},
   "source": [
    "**2.) B = (B $\\cap$ A) $\\cup$ (B $\\cap$ $A^C$)**\n",
    "- $(B\\cap A) \\cup (B \\cap A^C):$ This set contains all elements that are in either $B \\cap A $ or $B \\cap A^C $ ,which means it includes all elements of $B$ since $x$ is in both $B \\cap A$ and $B \\cap A^C$ <br>\n",
    "Therefore, we have shown that  $B = (B \\cap$ A) $\\cup$ (B $\\cap$ $A^C$)"
   ]
  },
  {
   "cell_type": "markdown",
   "id": "8509fdc1-a2df-4ada-acdb-5cbaa0bf1ec7",
   "metadata": {},
   "source": [
    "**3.) B\\A = B $\\cap$ $A^C$**\n",
    "- $B$ \\ $A$: This set contains all elements that are in $B$ but not in $A$,which includes $x$ because $x \\in B$ and $x \\notin A$\n",
    "- $B \\cap A^C$: This set contains all elements that are in $B$ and also not in $A$, which inclides $x$ because $x \\notin A$<br>\n",
    "Therefore, $B$ \\ $A=B \\cap A^C$"
   ]
  },
  {
   "cell_type": "markdown",
   "id": "a85caf27-aebb-4520-b82e-8fd5a6088450",
   "metadata": {},
   "source": [
    "**4.) A $\\cup$ B = A $\\cup$ (B $\\cup$ $A^C$)**\n",
    "- $A \\cup A$: This set contains all elements that are either in $A$ or $B$, which includes $x$ because $x \\in A$ and $x$ $B$\n",
    "- $B \\cup A^C:$ This set contains all elements that are either in $B$ or in the complement of $A$, which also inclides $x$ becaise $x \\in B$<br>\n",
    "Therefore, $A \\cup B= A \\cup (B\\cup A^C)$ when there exists an $x$ such that $x \\in A$ and $x \\in B$\n"
   ]
  },
  {
   "cell_type": "markdown",
   "id": "f985031d-8421-4def-b35a-3d8e704ce753",
   "metadata": {},
   "source": [
    "**5.) $\\left( U_{i=1}^{\\infty} A_i^C \\right)^C = \\bigcap_{i=1}^{\\infty} A_i$**\n",
    "\n",
    "De Morgan's Laws and the properties of complements\n",
    "- LHS\n",
    "$\\left(U_{i=1}^{\\infty} A_i^C \\right)^C$)\n",
    "- RHS\n",
    "$\\left(\\cap_{i=1}^{\\infty} A_i \\right)$\n",
    "\n",
    "Therefore, the proof shows that when there exists an element $x$ such that $x$ belongs to both $A_i$ and $B_i$, the sets on the left hand side amd right hand side of the given equation are equal.\n"
   ]
  },
  {
   "cell_type": "markdown",
   "id": "b5564308-ab17-4bf9-80f6-0d3653a37946",
   "metadata": {},
   "source": [
    "**6.) |A $\\cup$ B| = |A|+|B| - |A $\\cap$ B|**\n",
    "- |A $\\cup$ B|represents the total number of distinct elements in $A \\cup B$, including those that are common to both $A$ and $B$\n",
    "- $|A|$ represents the total number of distinct elements in $A$\n",
    "- |B| represents the total number of distinct elements in B\n",
    "- |A $\\cap$ B| represents the total number of distinct elements that are common t o both $A$ and $B$\n",
    "\n",
    "Therefore, this equation $|A $\\cup$ B| = |A|+|B| - |A $\\cap$ B$ provides an accurate representation of the relationship between the cardinalities of these sets."
   ]
  },
  {
   "cell_type": "markdown",
   "id": "75aaa80b-6c42-46ab-825b-0e1d7a771a3d",
   "metadata": {},
   "source": [
    "## 2.) Sets and Subsets\n",
    "\n",
    "\n",
    "\n",
    "$If A = \\{2,3,4,5\\}, and\\;B = \\{x \\in \\mid  x \\;is \\; even\\}. Is A \\subset B\\;?$ Show proof. \n",
    "\n",
    "$A=\\{2,3,4,5\\}$ <br>\n",
    "$B=\\{2,4\\}$ <br>\n",
    "\n",
    "2 is an even natural number, it belongs to B. <br>\n",
    "3 is an odd number , it does not belong to B. <br>\n",
    "4 is an even natural, it belongs to B. <br>\n",
    "5 is an odd number , it does not belong to B. <br>\n",
    "\n",
    "Some elements on A are not on B\n",
    "\n",
    "$Therefore, A \\not\\subset B.$\n",
    "\n",
    "\n",
    "\n",
    "Let sets: <br>\n",
    "\n",
    "\n",
    "$A = \\{x|x \\in {\\displaystyle \\mathbb {Z} }, 0 \\leq x \\leq 9\\}$ <br>\n",
    "$B = \\{ 2,4,6,8\\}$ <br>\n",
    "$C = \\{ 1,3,5,7,9\\}$ <br> \n",
    "$D = \\{ 3,4,5\\}$ <br>\n",
    "\n",
    "Find a set $X$ that will satisfy the following conditions:\n",
    "\n",
    "$1.) X$ and $B$ are $disjoint$ <br>\n",
    "\n",
    "Since it says that $X$ and $B$ are disjoint, therefore it is:\n",
    "\n",
    "$\\;$ $X=\\{1,3,5,7,9\\}$ <br>\n",
    "\n",
    "$2.) X$ $\\subset$ $D$ but $X$ $\\nsubseteq$ $B$ <br>\n",
    "\n",
    "If $X$ is a subset of $D$ but not a subset of $B$, then it should be:\n",
    "\n",
    "$\\;$ $X=\\{3,5\\}$ <br>\n",
    "\n",
    "$3.) X \\subset A$ but $X \\nsubseteq C$ <br>\n",
    "\n",
    "If $X$ is a subset of $A$ but not a subset of $C$, the answer should be:\n",
    "\n",
    "$\\;$ $X=\\{2,4,6,8\\}$ <br>\n",
    "\n",
    "\n",
    "\n",
    "\n",
    "## 3.) Set Operations\n",
    "\n",
    "\n",
    "$U=\\{1,2,3,4,5\\}$ <br>\n",
    "$A=\\{1,2,3,4,5\\}$ <br>\n",
    "$B=\\{4,5,6,7\\}$ <br>\n",
    "$C=\\{5,6,7,8,9\\}$ <br>\n",
    "$D=\\{1,3,5,7,9\\}$ <br>\n",
    "$E=\\{2.4.6.8\\}$ <br>\n",
    "$F=\\{1,5,9\\}$ <br>\n",
    "\n",
    "$C\\oplus D$ <br>\n",
    "$A\\setminus B$ <br>\n",
    "$B\\setminus A$ <br>\n",
    "$E\\oplus F$ <br>\n",
    "\n",
    "\n",
    "\n",
    "-$C\\oplus D = \\{1,3,6,8\\}$ <BR>\n",
    "\n",
    "\n",
    "-$A\\setminus B = \\{1,2,3\\}$ <br>\n",
    "\n",
    "\n",
    "\n",
    "\n",
    "-$B\\setminus A = \\{6,7\\}$ <br>\n",
    "\n",
    "\n",
    "\n",
    "\n",
    "-$E\\oplus F = \\{1,2,4,5,6,8,9\\}$ <br>\n",
    "\n",
    "\n"
   ]
  },
  {
   "cell_type": "code",
   "execution_count": 19,
   "id": "ea2bda4c-e21f-417a-bf47-13d3d873449b",
   "metadata": {},
   "outputs": [
    {
     "name": "stdout",
     "output_type": "stream",
     "text": [
      "{1, 3, 6, 8}\n",
      "{1, 2, 3}\n",
      "{6, 7}\n",
      "{1, 2, 4, 5, 6, 8, 9}\n"
     ]
    }
   ],
   "source": [
    "#define set\n",
    "\n",
    "U = {1,2,3,4,5}\n",
    "A = {1,2,3,4,5}\n",
    "B = {4,5,6,7}\n",
    "C = {5,6,7,8,9}\n",
    "D = {1,3,5,7,9}\n",
    "E = {2,4,6,8}\n",
    "F = {1,5,9}\n",
    "\n",
    "\n",
    "print(C ^ D)\n",
    "print(A - B)\n",
    "print(B - A)\n",
    "print(E ^ F)\n"
   ]
  },
  {
   "cell_type": "code",
   "execution_count": 2,
   "id": "04df712d-5666-49f3-9cf6-67fe2e1a01b3",
   "metadata": {},
   "outputs": [
    {
     "data": {
      "image/png": "[encoded data removed]",
      "text/plain": [
       "<Figure size 800x580 with 1 Axes>"
      ]
     },
     "metadata": {},
     "output_type": "display_data"
    }
   ],
   "source": [
    "from matplotlib_venn import venn3, venn3_circles\n",
    "from matplotlib import pyplot as plt\n",
    "%matplotlib inline\n",
    "\n",
    "fig= plt.figure(figsize=(8,5.8))\n",
    "ax=fig.add_subplot(1,1,1)\n",
    "\n",
    "plt. scatter(x=[0, 0.25,0.10], y= [0.2,0.2,-0.0], s=20000, color = [\"purple\",\"skyblue\", \"pink\"], alpha=0.70);\n",
    "\n",
    "plt.xlim(-0.50,1);\n",
    "plt.ylim(-0.4,0.5);\n",
    "\n",
    "#labels\n",
    "\n",
    "plt.text(x=-0.3, y=0.43, s=\"Newsweek\", fontsize=11, fontweight=\"normal\", color=\"black\");\n",
    "plt.text(x=0.40, y=0.43, s=\"Times Magazine\", fontsize=11, fontweight=\"normal\", color=\"black\");\n",
    "plt.text(x=0.05, y=-0.3, s=\"Fortune\", fontsize=11, fontweight=\"normal\", color=\"black\");\n",
    "\n",
    "#subsets\n",
    "\n",
    "plt.text(x=-0.1, y=0.2, s=\"65\", fontsize=10, fontweight=\"normal\", color=\"black\");\n",
    "plt.text(x=0.3, y=0.2, s=\"45\", fontsize=10, fontweight=\"normal\", color=\"black\");\n",
    "plt.text(x=0.1, y=-0.1, s=\"42\", fontsize=10, fontweight=\"normal\", color=\"black\");\n",
    "plt.text(x=0.1, y=0.25, s=\"20\", fontsize=10, fontweight=\"normal\", color=\"black\");\n",
    "plt.text(x=-0.0, y=0.05, s=\"25\", fontsize=10, fontweight=\"normal\", color=\"black\");\n",
    "plt.text(x=0.22, y=0.05, s=\"15\", fontsize=10, fontweight=\"normal\", color=\"black\");\n",
    "plt.text(x=0.1, y=0.1, s=\"8\", fontsize=10, fontweight=\"normal\", color=\"black\");\n",
    "\n",
    "ax.spines[[\"top\", \"bottom\", \"left\", \"right\"]].set_visible(False);\n",
    "ax.yaxis.set_visible(False);\n",
    "ax.xaxis.set_visible(False);\n"
   ]
  },
  {
   "cell_type": "markdown",
   "id": "a4cf868b-3565-43b2-b6df-f236303e8ecb",
   "metadata": {},
   "source": [
    "Find the number of people who read at <strong>*\"least one\"*</strong>  of the three magazines. \n",
    "\n",
    "- $\\mid{N}\\mid + \\mid{T}\\mid + \\mid {F} \\mid - \\mid{NT}\\mid- \\mid{NF}\\mid-\\mid{TF}\\mid + \\mid{NTF}\\mid $ <br>\n",
    "\n",
    "- $\\mid {N}$ $\\cup$ ${T}$ $\\cup$ ${F}\\mid$ = $100$\n",
    "- $65+45+42-25-20-15+8=100$\n",
    "\n",
    "Find the number of people who read exactly one magazine.\n",
    "\n",
    "Newsweek Magazine Readers <br>\n",
    "\n",
    "$\\mid {Newsweek}\\mid - \\mid {Newsweek}\\cap {Fortune} \\mid - \\mid{Newsweek}\\cap{Times}\\mid+\\mid{Newsweek}\\cap{Times}\\cap{Fortune}\\mid$ <br>\n",
    "$= 65-25-20+8=28$\n",
    "\n",
    "Times Magazine Readers\n",
    "$\\mid {Times}\\mid - \\mid {Times}\\cap {Fortune} \\mid - \\mid{Times}\\cap{Newsweek}\\mid+\\mid{Newsweek}\\cap{Times}\\cap{Fortune}\\mid$ <br>\n",
    "$=45-15-20+8=18$\n",
    "\n",
    "Fortune Magazine Readers\n",
    "$\\mid {Fortune}\\mid - \\mid {Fortune}\\cap {Newsweek} \\mid - \\mid{Fortune}\\cap{Times}\\mid+\\mid{Newsweek}\\cap{Times}\\cap{Fortune}\\mid$ <br>\n",
    "$=42-25-15+8=10$\n"
   ]
  },
  {
   "cell_type": "code",
   "execution_count": 8,
   "id": "d80143d6-36c3-4d4c-90aa-64e4b6f7c535",
   "metadata": {},
   "outputs": [
    {
     "data": {
      "image/png": "[encoded data removed]",
      "text/plain": [
       "<Figure size 800x580 with 1 Axes>"
      ]
     },
     "metadata": {},
     "output_type": "display_data"
    }
   ],
   "source": [
    "from matplotlib_venn import venn3, venn3_circles\n",
    "from matplotlib import pyplot as plt\n",
    "%matplotlib inline\n",
    "\n",
    "fig= plt.figure(figsize=(8,5.8))\n",
    "ax=fig.add_subplot(1,1,1)\n",
    "\n",
    "plt. scatter(x=[0, 0.25,0.10], y= [0.2,0.2,-0.0], s=20000, color = [\"purple\",\"skyblue\", \"pink\"], alpha=0.70);\n",
    "\n",
    "plt.xlim(-0.50,1);\n",
    "plt.ylim(-0.4,0.5);\n",
    "\n",
    "#labels\n",
    "\n",
    "plt.text(x=-0.3, y=0.43, s=\"Newsweek\", fontsize=11, fontweight=\"normal\", color=\"black\");\n",
    "plt.text(x=0.40, y=0.43, s=\"Times Magazine\", fontsize=11, fontweight=\"normal\", color=\"black\");\n",
    "plt.text(x=0.05, y=-0.3, s=\"Fortune\", fontsize=11, fontweight=\"normal\", color=\"black\");\n",
    "\n",
    "#subsets\n",
    "\n",
    "plt.text(x=-0.1, y=0.2, s=\"15\", fontsize=10, fontweight=\"normal\", color=\"black\");\n",
    "plt.text(x=0.3, y=0.2, s=\"12\", fontsize=10, fontweight=\"normal\", color=\"black\");\n",
    "plt.text(x=0.1, y=-0.1, s=\"11\", fontsize=10, fontweight=\"normal\", color=\"black\");\n",
    "plt.text(x=0.1, y=0.25, s=\"9\", fontsize=10, fontweight=\"normal\", color=\"black\");\n",
    "plt.text(x=-0.0, y=0.05, s=\"5\", fontsize=10, fontweight=\"normal\", color=\"black\");\n",
    "plt.text(x=0.22, y=0.05, s=\"4\", fontsize=10, fontweight=\"normal\", color=\"black\");\n",
    "plt.text(x=0.1, y=0.1, s=\"3\", fontsize=10, fontweight=\"normal\", color=\"black\");\n",
    "\n",
    "ax.spines[[\"top\", \"bottom\", \"left\", \"right\"]].set_visible(False);\n",
    "ax.yaxis.set_visible(False);\n",
    "ax.xaxis.set_visible(False);\n"
   ]
  },
  {
   "cell_type": "markdown",
   "id": "b8203a43-b584-494f-aa73-7d35866f5e4a",
   "metadata": {},
   "source": [
    "2.) Find the number of cars with W only.\n",
    "\n",
    "$\\mid{W}\\mid-\\mid{W}\\cap{A}\\mid-\\mid{W}\\cap\n",
    "{R}\\mid+\\mid{W}\\cap {R} \\cap{A}\\mid$ <br>\n",
    "$=11-5-4+3=5$ <br>\n",
    "\n",
    "3.) Find the number of cars with A only.\n",
    "   \n",
    "$\\mid{A}\\mid-\\mid{W}\\cap{A}\\mid-\\mid{A}\\cap\n",
    "{R}\\mid+\\mid{W}\\cap {R} \\cap{A}\\mid$ <br>\n",
    "$=15-5-9+3=4$\n",
    "\n",
    "4.) Find the number of cars with R only.\n",
    "\n",
    "$\\mid{R}\\mid-\\mid{R}\\cap{A}\\mid-\\mid{R}\\cap\n",
    "{W}\\mid+\\mid{W}\\cap {R} \\cap{A}\\mid$ <br>\n",
    "$=12-9-4+3=2$\n",
    "\n",
    "5.) Find the number of cars with both R and W but not A.\n",
    "\n",
    "$\\mid{W}\\cap{R}\\mid-\\mid{W}\\cap {R} \\cap{A}\\mid$ <br>\n",
    "$=4-3=1$\n",
    "\n",
    "6.) Find the number of cars with both A and R but not W.\n",
    "\n",
    "$\\mid{A}\\cap{R}\\mid-\\mid{W}\\cap {R} \\cap{A}\\mid$ <br>\n",
    "$=9-3=6$\n",
    "\n",
    "7.) Find the number of cars with only one of the options.\n",
    "\n",
    "$\\mid{A}$ only$\\mid + \\mid{W}$ only$\\mid + \\mid{R}$ only$\\mid$ <br>\n",
    "$=5+4+2=11$\n",
    "\n",
    "8.) Find the number of cars with at least one option.\n",
    "\n",
    "$\\mid{A}\\cup {R}\\cup{W}\\mid = \\mid{A}\\mid+\\mid{R}\\mid+\\mid{W}\\mid-\\mid{A}\\cap{W}\\mid-\\mid{A}\\cap{R}\\mid-\\mid{W}\\cap{R}\\mid+\\mid{A}\\cap{W}\\cap{R}\\mid$ <br>\n",
    "$=15+11+12-5-9-4+3=23$\n",
    "\n",
    "9.) Find the number of cars with none of the Options.\n",
    "\n",
    "$\\mid{U}-\\mid{A}\\cup{R}\\cup{W}\\mid$ <br>\n",
    "$=25-23=2$"
   ]
  },
  {
   "cell_type": "code",
   "execution_count": null,
   "id": "acbb3f22-a3e6-4687-930d-617a22aa5aaa",
   "metadata": {},
   "outputs": [],
   "source": []
  }
 ],
 "metadata": {
  "kernelspec": {
   "display_name": "Python 3 (ipykernel)",
   "language": "python",
   "name": "python3"
  },
  "language_info": {
   "codemirror_mode": {
    "name": "ipython",
    "version": 3
   },
   "file_extension": ".py",
   "mimetype": "text/x-python",
   "name": "python",
   "nbconvert_exporter": "python",
   "pygments_lexer": "ipython3",
   "version": "3.11.5"
  }
 },
 "nbformat": 4,
 "nbformat_minor": 5
}
